{
 "cells": [
  {
   "cell_type": "code",
   "execution_count": 10,
   "metadata": {
    "collapsed": true
   },
   "outputs": [],
   "source": []
  },
  {
   "cell_type": "code",
   "execution_count": 25,
   "metadata": {
    "collapsed": true
   },
   "outputs": [],
   "source": [
    "import pandas as pd\n",
    "\n",
    "def chunks(l, n):\n",
    "    return [l[i:i+n] for i in xrange(0, len(l), n) if len(l[i:i+n])==n]\n",
    "\n",
    "df['qlen'] = df.questions.apply(lambda x : len(x))\n",
    "df['alen'] = df.answers.apply(lambda x : len(x))\n",
    "grps = df.groupby(['qlen', 'alen'])\n",
    "index = grps.count().questions.index\n",
    "nindex = index[grps.count().questions>=batch_size]\n",
    "batches = []\n",
    "for i in nindex:\n",
    "    batches.append(chunks(grps.get_group(i)[['questions', 'answers']].values, batch_size))\n",
    "nbatches = [bi for b in batches for bi in b] #flatten\n",
    "\n",
    "nnbatches = [(i+1, bi[0], bi[1]) for i, b in enumerate(nbatches) for bi in b]\n",
    "ndf= pd.DataFrame(nnbatches, columns=['nbatch', 'questions', 'answers'])\n"
   ]
  },
  {
   "cell_type": "code",
   "execution_count": 23,
   "metadata": {
    "collapsed": false
   },
   "outputs": [
    {
     "data": {
      "text/plain": [
       "(4564,)"
      ]
     },
     "execution_count": 23,
     "metadata": {},
     "output_type": "execute_result"
    }
   ],
   "source": []
  },
  {
   "cell_type": "code",
   "execution_count": 24,
   "metadata": {
    "collapsed": false
   },
   "outputs": [
    {
     "data": {
      "text/plain": [
       "(8193,)"
      ]
     },
     "execution_count": 24,
     "metadata": {},
     "output_type": "execute_result"
    }
   ],
   "source": [
    "index.shape"
   ]
  },
  {
   "cell_type": "code",
   "execution_count": 14,
   "metadata": {
    "collapsed": false
   },
   "outputs": [
    {
     "name": "stdout",
     "output_type": "stream",
     "text": [
      "loading csv...\n",
      "converting to batches...\n",
      "saving to csv...\n"
     ]
    }
   ],
   "source": [
    "input_file = 'qa.csv'\n",
    "batch_size = 16\n",
    "\n",
    "print('loading csv...')\n",
    "df = pd.read_csv(input_file)\n",
    "print('converting to batches...')\n",
    "ndf = to_batch(df, batch_size)\n",
    "print('saving to csv...')\n",
    "#print(output_file)\n",
    "#ndf.to_csv(output_file, index=False)\n",
    "#print('done!')"
   ]
  },
  {
   "cell_type": "code",
   "execution_count": 15,
   "metadata": {
    "collapsed": false
   },
   "outputs": [
    {
     "data": {
      "text/html": [
       "<div>\n",
       "<table border=\"1\" class=\"dataframe\">\n",
       "  <thead>\n",
       "    <tr style=\"text-align: right;\">\n",
       "      <th></th>\n",
       "      <th>nbatch</th>\n",
       "      <th>questions</th>\n",
       "      <th>answers</th>\n",
       "    </tr>\n",
       "  </thead>\n",
       "  <tbody>\n",
       "    <tr>\n",
       "      <th>0</th>\n",
       "      <td>1</td>\n",
       "      <td>mm.</td>\n",
       "      <td>mm.</td>\n",
       "    </tr>\n",
       "    <tr>\n",
       "      <th>1</th>\n",
       "      <td>1</td>\n",
       "      <td>ah.</td>\n",
       "      <td>oh.</td>\n",
       "    </tr>\n",
       "    <tr>\n",
       "      <th>2</th>\n",
       "      <td>1</td>\n",
       "      <td>oh.</td>\n",
       "      <td>mm?</td>\n",
       "    </tr>\n",
       "    <tr>\n",
       "      <th>3</th>\n",
       "      <td>1</td>\n",
       "      <td>mm.</td>\n",
       "      <td>mm.</td>\n",
       "    </tr>\n",
       "    <tr>\n",
       "      <th>4</th>\n",
       "      <td>1</td>\n",
       "      <td>oh!</td>\n",
       "      <td>oh.</td>\n",
       "    </tr>\n",
       "  </tbody>\n",
       "</table>\n",
       "</div>"
      ],
      "text/plain": [
       "   nbatch questions answers\n",
       "0       1       mm.     mm.\n",
       "1       1       ah.     oh.\n",
       "2       1       oh.     mm?\n",
       "3       1       mm.     mm.\n",
       "4       1       oh!     oh."
      ]
     },
     "execution_count": 15,
     "metadata": {},
     "output_type": "execute_result"
    }
   ],
   "source": [
    "ndf.head()"
   ]
  },
  {
   "cell_type": "code",
   "execution_count": null,
   "metadata": {
    "collapsed": false
   },
   "outputs": [],
   "source": [
    "for i in range(1, 430000):\n",
    "    if ndf.query('nbatch=='+str(i)).shape[0] != 16:\n",
    "        print i\n",
    "        print('errr')\n",
    "        break"
   ]
  },
  {
   "cell_type": "code",
   "execution_count": null,
   "metadata": {
    "collapsed": true
   },
   "outputs": [],
   "source": []
  }
 ],
 "metadata": {
  "kernelspec": {
   "display_name": "Python 2",
   "language": "python",
   "name": "python2"
  },
  "language_info": {
   "codemirror_mode": {
    "name": "ipython",
    "version": 2
   },
   "file_extension": ".py",
   "mimetype": "text/x-python",
   "name": "python",
   "nbconvert_exporter": "python",
   "pygments_lexer": "ipython2",
   "version": "2.7.11"
  }
 },
 "nbformat": 4,
 "nbformat_minor": 0
}
